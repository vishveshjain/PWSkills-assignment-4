{
 "cells": [
  {
   "cell_type": "markdown",
   "id": "46e420ab-318e-4368-81a6-77510b62a10c",
   "metadata": {},
   "source": [
    "### Q1. Which keyword is used to create a function? Create a function to return a list of odd numbers in the range of 1 to 25."
   ]
  },
  {
   "cell_type": "markdown",
   "id": "424e0c70-8269-4451-9865-ff667b2ecf5f",
   "metadata": {},
   "source": [
    "Ans: def keyword is used to create a function."
   ]
  },
  {
   "cell_type": "code",
   "execution_count": 1,
   "id": "2ec8ec90-bcd4-4884-a762-049e9484616b",
   "metadata": {},
   "outputs": [],
   "source": [
    "#Create a function to return a list of odd numbers in the range of 1 to 25.\n",
    "def listOfOdd():\n",
    "    \"\"\"a function to return a list of odd numbers in the range of 1 to 25.\"\"\"\n",
    "    l1=[]\n",
    "    for i in range(1,25):\n",
    "        if i%2 != 0:\n",
    "            l1.append(i)\n",
    "    return l1"
   ]
  },
  {
   "cell_type": "code",
   "execution_count": 2,
   "id": "b332d53b-8d51-4499-868b-a0c9751564f7",
   "metadata": {},
   "outputs": [
    {
     "data": {
      "text/plain": [
       "[1, 3, 5, 7, 9, 11, 13, 15, 17, 19, 21, 23]"
      ]
     },
     "execution_count": 2,
     "metadata": {},
     "output_type": "execute_result"
    }
   ],
   "source": [
    "listOfOdd()"
   ]
  },
  {
   "cell_type": "markdown",
   "id": "2d0236c1-7ac9-4564-bfc0-4fc08addf35a",
   "metadata": {},
   "source": [
    "### Q2. Why *args and **kwargs is used in some functions? Create a function each for *args and **kwargs to demonstrate their use.**"
   ]
  },
  {
   "cell_type": "markdown",
   "id": "ae43cedc-75ff-4ea3-a48d-83954b9275d4",
   "metadata": {},
   "source": [
    "Ans: We use *args and **kwargs as an argument when we are unsure about the number of arguments to pass in the functions."
   ]
  },
  {
   "cell_type": "code",
   "execution_count": 7,
   "id": "e14b338e-a165-48cb-89cf-482240b39297",
   "metadata": {},
   "outputs": [],
   "source": [
    "#a function for *args to demonstrate its use.\n",
    "def demo1(*args):\n",
    "    \"\"\"a function for *args to demonstrate its use.\"\"\"\n",
    "    index=0\n",
    "    for i in args:\n",
    "        print(\"The args[\"+str(index)+\"] having:\",i)\n",
    "        index+=1"
   ]
  },
  {
   "cell_type": "code",
   "execution_count": 8,
   "id": "3b2b4e6e-a61e-4495-9323-ae98f7f42e5c",
   "metadata": {},
   "outputs": [
    {
     "name": "stdout",
     "output_type": "stream",
     "text": [
      "The args[0] having: Hi\n",
      "The args[1] having: There\n",
      "The args[2] having: This is test\n",
      "The args[3] having: 1\n"
     ]
    }
   ],
   "source": [
    "demo1(\"Hi\", \"There\", \"This is test\", 1)"
   ]
  },
  {
   "cell_type": "code",
   "execution_count": 32,
   "id": "332d3347-836d-471d-90ae-24abdecd5634",
   "metadata": {},
   "outputs": [],
   "source": [
    "#a function for kwargs to demonstrate its use.\n",
    "def demo2(**kwargs):\n",
    "    \"\"\"a function for kwargs to demonstrate its use.\"\"\"\n",
    "    index=0\n",
    "    for key, value in kwargs.items():\n",
    "        print(\"The kwargs[\"+str(index)+\"] having key '\"+str(key)+ \"' and value '\"+str(value)+\"'\")\n",
    "        index+=1"
   ]
  },
  {
   "cell_type": "code",
   "execution_count": 33,
   "id": "f1fcf61a-5e0e-40da-b960-a954b6f6da66",
   "metadata": {},
   "outputs": [
    {
     "name": "stdout",
     "output_type": "stream",
     "text": [
      "The kwargs[0] having key 'FirstName' and value 'Vishvesh'\n",
      "The kwargs[1] having key 'LastName' and value 'Jain'\n",
      "The kwargs[2] having key 'Location' and value 'Delhi'\n",
      "The kwargs[3] having key 'CourseEnrolled' and value 'Data Science Master'\n"
     ]
    }
   ],
   "source": [
    "demo2(FirstName= \"Vishvesh\", LastName= \"Jain\", Location= \"Delhi\", CourseEnrolled= \"Data Science Master\")"
   ]
  },
  {
   "cell_type": "markdown",
   "id": "23683330-a9f5-4447-9113-3061bb4bae5f",
   "metadata": {},
   "source": [
    "### Q3. What is an iterator in python? Name the method used to initialise the iterator object and the method used for iteration. Use these methods to print the first five elements of the given list [2, 4, 6, 8, 10, 12, 14, 16, 18, 20]."
   ]
  },
  {
   "cell_type": "markdown",
   "id": "ef47d27c-f654-4307-9feb-bff3359f108c",
   "metadata": {},
   "source": [
    "Ans: Iterators are methods that iterate collections like lists, tuples, etc. Using an iterator method, we can loop through an object and return its elements.\n",
    "The for loop in Python is used to iterate over a sequence of elements, such as a list, tuple, or string.\n",
    "When we use the for loop with an iterator, the loop will automatically iterate over the elements of the iterator until it is exhausted."
   ]
  },
  {
   "cell_type": "code",
   "execution_count": 35,
   "id": "d930603d-451a-4a9e-8961-1c04c9032684",
   "metadata": {},
   "outputs": [
    {
     "name": "stdout",
     "output_type": "stream",
     "text": [
      "2\n",
      "4\n",
      "6\n",
      "8\n",
      "10\n"
     ]
    }
   ],
   "source": [
    "#Use iterator methods to print the first five elements of the given list [2, 4, 6, 8, 10, 12, 14, 16, 18, 20]\n",
    "l=[2, 4, 6, 8, 10, 12, 14, 16, 18, 20]\n",
    "count=0\n",
    "for i in l:\n",
    "    if count<5:\n",
    "        print(i)\n",
    "        count+=1"
   ]
  },
  {
   "cell_type": "markdown",
   "id": "15863850-e9ab-42e9-85af-9cf46f3eb41d",
   "metadata": {},
   "source": [
    "### Q4. What is a generator function in python? Why yield keyword is used? Give an example of a generator function."
   ]
  },
  {
   "cell_type": "markdown",
   "id": "9b423b01-16b2-4ddb-a742-b6478fa2a439",
   "metadata": {},
   "source": [
    "Ans: A generator function in Python is a special type of function that returns a generator iterator, which can be used to iterate over a sequence of elements. A generator function is defined like a normal function, but instead of using the return statement to return a value, it uses the yield statement. The yield statement is used to produce a value, and the generator function can be resumed from where it left off the next time next() is called on the generator.\n",
    "\n",
    "Here's an example of a generator function that generates the Fibonacci sequence:"
   ]
  },
  {
   "cell_type": "code",
   "execution_count": 36,
   "id": "bd55110a-71ef-41f2-a53a-5aa11e6941eb",
   "metadata": {},
   "outputs": [
    {
     "name": "stdout",
     "output_type": "stream",
     "text": [
      "0\n",
      "1\n",
      "1\n",
      "2\n",
      "3\n",
      "5\n",
      "8\n",
      "13\n",
      "21\n",
      "34\n"
     ]
    }
   ],
   "source": [
    "#the fibonacci series program using generator yield\n",
    "def fibonacci():\n",
    "    \"\"\"This function will generate fibonacci sequence\"\"\"\n",
    "    a, b = 0, 1\n",
    "    while True:\n",
    "        yield a\n",
    "        a, b = b, a + b\n",
    "\n",
    "fib = fibonacci()\n",
    "for i in range(10):\n",
    "    print(next(fib))\n"
   ]
  },
  {
   "cell_type": "markdown",
   "id": "a6e229f9-36da-4e2c-9d7d-c68c86a951bc",
   "metadata": {},
   "source": [
    "### Q5. Create a generator function for prime numbers less than 1000. Use the next() method to print the first 20 prime numbers."
   ]
  },
  {
   "cell_type": "code",
   "execution_count": 37,
   "id": "0f372c74-f064-4f07-a940-145a5684a359",
   "metadata": {},
   "outputs": [
    {
     "name": "stdout",
     "output_type": "stream",
     "text": [
      "2\n",
      "3\n",
      "5\n",
      "7\n",
      "11\n",
      "13\n",
      "17\n",
      "19\n",
      "23\n",
      "29\n",
      "31\n",
      "37\n",
      "41\n",
      "43\n",
      "47\n",
      "53\n",
      "59\n",
      "61\n",
      "67\n",
      "71\n"
     ]
    }
   ],
   "source": [
    "#a generator function for prime numbers less than 1000. Use the next() method to print the first 20 prime numbers.\n",
    "def primes():\n",
    "    \"\"\"Create a generator function for prime numbers less than 1000.\"\"\"\n",
    "    yield 2\n",
    "    primes_list = [2]\n",
    "    for i in range(3, 1000):\n",
    "        is_prime = True\n",
    "        for prime in primes_list:\n",
    "            if i % prime == 0:\n",
    "                is_prime = False\n",
    "                break\n",
    "        if is_prime:\n",
    "            primes_list.append(i)\n",
    "            yield i\n",
    "\n",
    "prime_gen = primes()\n",
    "# the next() method to print the first 20 prime numbers.\n",
    "for i in range(20):\n",
    "    print(next(prime_gen))\n"
   ]
  },
  {
   "cell_type": "markdown",
   "id": "8af22777-c6f3-4939-8508-f070f85403d0",
   "metadata": {},
   "source": [
    "### Q6. Write a python program to print the first 10 Fibonacci numbers using a while loop."
   ]
  },
  {
   "cell_type": "code",
   "execution_count": 38,
   "id": "3343b831-2cc6-476e-a9a6-547822919c01",
   "metadata": {},
   "outputs": [
    {
     "name": "stdout",
     "output_type": "stream",
     "text": [
      "0\n",
      "1\n",
      "1\n",
      "2\n",
      "3\n",
      "5\n",
      "8\n",
      "13\n",
      "21\n",
      "34\n"
     ]
    }
   ],
   "source": [
    "#a python program to print the first 10 Fibonacci numbers using a while loop.\n",
    "def fibonacci(n):\n",
    "    \"\"\"This function will print fibonacci sequence\"\"\"\n",
    "    a, b = 0, 1\n",
    "    count = 0\n",
    "    while count < n:\n",
    "        print(a)\n",
    "        a, b = b, a + b\n",
    "        count += 1\n",
    "\n",
    "fibonacci(10)\n"
   ]
  },
  {
   "cell_type": "markdown",
   "id": "d4bf431d-4b66-41d1-8b53-1417f4a46aec",
   "metadata": {},
   "source": [
    "### Q7. Write a List Comprehension to iterate through the given string: ‘pwskills’. Expected output: ['p', 'w', 's', 'k', 'i', 'l', 'l', 's']"
   ]
  },
  {
   "cell_type": "code",
   "execution_count": 42,
   "id": "855880eb-d008-4480-839f-64578c701efc",
   "metadata": {},
   "outputs": [
    {
     "name": "stdout",
     "output_type": "stream",
     "text": [
      "['p', 'w', 's', 'k', 'i', 'l', 'l', 's']\n"
     ]
    }
   ],
   "source": [
    "#a List Comprehension to iterate through the given string: ‘pwskills’.\n",
    "string = 'pwskills'\n",
    "output = [char for char in string]\n",
    "print(output)"
   ]
  },
  {
   "cell_type": "markdown",
   "id": "3930613c-4a3f-47b6-943e-e4c56203d718",
   "metadata": {},
   "source": [
    "### Q8. Write a python program to check whether a given number is Palindrome or not using a while loop."
   ]
  },
  {
   "cell_type": "code",
   "execution_count": 1,
   "id": "efdd8fdd-a4ee-46c8-bbec-610345d48899",
   "metadata": {},
   "outputs": [
    {
     "name": "stdin",
     "output_type": "stream",
     "text": [
      "Please give a number :  12321\n"
     ]
    },
    {
     "name": "stdout",
     "output_type": "stream",
     "text": [
      "Given number is a palindrome\n"
     ]
    }
   ],
   "source": [
    "#a python program to check whether a given number is Palindrome or not using a while loop.\n",
    "n = int(input(\"Please give a number : \"))\n",
    "def reverse(num):\n",
    "    if num<10:\n",
    "      return num \n",
    "    else:\n",
    "      return int(str(num%10) + str(reverse(num//10)))\n",
    "def isPalindrome(num):\n",
    "    if num == reverse(num):\n",
    "        return 1\n",
    "    return 0\n",
    "if isPalindrome(n) == 1:\n",
    "    print(\"Given number is a palindrome\")\n",
    "else:\n",
    "    print(\"Given number is a not palindrome\") "
   ]
  },
  {
   "cell_type": "markdown",
   "id": "cdee664d-80c6-4229-a892-10b88225e1da",
   "metadata": {},
   "source": [
    "### Q9. Write a code to print odd numbers from 1 to 100 using list comprehension."
   ]
  },
  {
   "cell_type": "code",
   "execution_count": 44,
   "id": "681f6ad5-f305-45c8-a00d-3f1c7ead8de0",
   "metadata": {},
   "outputs": [
    {
     "data": {
      "text/plain": [
       "[1,\n",
       " 3,\n",
       " 5,\n",
       " 7,\n",
       " 9,\n",
       " 11,\n",
       " 13,\n",
       " 15,\n",
       " 17,\n",
       " 19,\n",
       " 21,\n",
       " 23,\n",
       " 25,\n",
       " 27,\n",
       " 29,\n",
       " 31,\n",
       " 33,\n",
       " 35,\n",
       " 37,\n",
       " 39,\n",
       " 41,\n",
       " 43,\n",
       " 45,\n",
       " 47,\n",
       " 49,\n",
       " 51,\n",
       " 53,\n",
       " 55,\n",
       " 57,\n",
       " 59,\n",
       " 61,\n",
       " 63,\n",
       " 65,\n",
       " 67,\n",
       " 69,\n",
       " 71,\n",
       " 73,\n",
       " 75,\n",
       " 77,\n",
       " 79,\n",
       " 81,\n",
       " 83,\n",
       " 85,\n",
       " 87,\n",
       " 89,\n",
       " 91,\n",
       " 93,\n",
       " 95,\n",
       " 97,\n",
       " 99]"
      ]
     },
     "execution_count": 44,
     "metadata": {},
     "output_type": "execute_result"
    }
   ],
   "source": [
    "#a code to print odd numbers from 1 to 100 using list comprehension.\n",
    "[odd for odd in range(1,100) if odd%2!=0]"
   ]
  },
  {
   "cell_type": "code",
   "execution_count": null,
   "id": "cf18bc39-0a1d-46eb-b384-5a0ca29d0647",
   "metadata": {},
   "outputs": [],
   "source": []
  }
 ],
 "metadata": {
  "kernelspec": {
   "display_name": "Python 3 (ipykernel)",
   "language": "python",
   "name": "python3"
  },
  "language_info": {
   "codemirror_mode": {
    "name": "ipython",
    "version": 3
   },
   "file_extension": ".py",
   "mimetype": "text/x-python",
   "name": "python",
   "nbconvert_exporter": "python",
   "pygments_lexer": "ipython3",
   "version": "3.10.8"
  }
 },
 "nbformat": 4,
 "nbformat_minor": 5
}
